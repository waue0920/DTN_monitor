{
 "cells": [
  {
   "cell_type": "code",
   "execution_count": null,
   "metadata": {},
   "outputs": [],
   "source": [
    "## define\n",
    "bastion_ip='165.124.3.19'\n",
    "bastion_user='admin'\n",
    "bastion_pass='admin'\n",
    "session=\"1\"\n",
    "dst_port=\"1\"\n",
    "src_port=\"2\""
   ]
  },
  {
   "cell_type": "code",
   "execution_count": null,
   "metadata": {},
   "outputs": [],
   "source": [
    "\n",
    "\n",
    "import paramiko\n",
    "import time\n",
    "import re\n",
    "\n",
    "def endwith_input(prompt_str,input_str,sleep=0,verbose=False):\n",
    "    buff=''\n",
    "    while not buff.endswith(prompt_str):\n",
    "        resp = chan.recv(9999).decode(\"utf8\")\n",
    "        buff += str(resp)\n",
    "    if verbose : print(buff)  \n",
    "    time.sleep(sleep)\n",
    "    chan.send(input_str+\"\\n\")\n",
    "    return buff\n",
    "\n",
    "\n",
    "def endwith_exec_search(prompt_str, cmd, search_str, sleep=0, verbose=False):\n",
    "    buff = ''\n",
    "    while not buff.endswith(prompt_str):\n",
    "        resp = chan.recv(9999).decode(\"utf8\")\n",
    "        buff += str(resp)\n",
    "    if verbose : print(\"initb=\"+buff)  \n",
    "    time.sleep(sleep)\n",
    "    chan.send(cmd+ \";sleep 1; echo @@end@@\"+\"\\n\")\n",
    "    while buff.find('@@end@@') < 0:\n",
    "        resp = chan.recv(9999).decode(\"utf8\")\n",
    "        buff += str(resp)\n",
    "    time.sleep(sleep)\n",
    "    if verbose : print(\"buff=\"+buff)  \n",
    "    if verbose : print(\"seach_str=\"+search_str)\n",
    "    ret=re.search(search_str, buff)    \n",
    "    if verbose : print(\"ret=\"+str(ret))\n",
    "    if ret == None:\n",
    "        return False\n",
    "    else:\n",
    "        return True\n",
    "    #ret = True if ret != None else False\n",
    "\n",
    "\n",
    "def exec_once(cmd):\n",
    "    stdin, stdout, stderr = ssh.exec_command(cmd)\n",
    "    for line in stdout:\n",
    "        print('... ' + line.strip('\\n'))\n",
    "\n",
    "## initial \n",
    "ssh = paramiko.SSHClient()\n",
    "ssh.set_missing_host_key_policy( paramiko.AutoAddPolicy() )\n",
    "ssh.connect(bastion_ip, username=bastion_user, password=bastion_pass)\n",
    "chan = ssh.invoke_shell()"
   ]
  },
  {
   "cell_type": "code",
   "execution_count": null,
   "metadata": {
    "scrolled": true
   },
   "outputs": [],
   "source": [
    "## enable\n",
    "endwith_input('# ','configure terminal', verbose=True)\n",
    "endwith_input('# ','interface ethernet 1/1/'+dst_port, verbose=True)\n",
    "endwith_input('# ','no switchport', verbose=True)\n",
    "endwith_input('# ','exit', verbose=True)\n",
    "\n",
    "endwith_input(')# ','monitor session '+session,verbose=True)\n",
    "\n",
    "endwith_input(')# ','source interface ethernet 1/1/'+ src_port +' both',verbose=True)\n",
    "endwith_input(')# ','destination interface ethernet 1/1/'+dst_port,verbose=True)\n",
    "endwith_input(')# ','commit',verbose=True)\n",
    "endwith_input(')# ','exit',verbose=True)\n",
    "endwith_input('# ','show monitor session '+session,verbose=True)\n"
   ]
  },
  {
   "cell_type": "code",
   "execution_count": null,
   "metadata": {
    "scrolled": true
   },
   "outputs": [],
   "source": [
    "## check result\n",
    "#ret=endwith_exec_search('# ','show monitor session all','ethernet',sleep=3,verbose=False)\n",
    "#print(\"yes\") if ret is True else print(\"not\")\n",
    "\n",
    "## show check command \n",
    "exec_once(\"show monitor session \"+session)"
   ]
  },
  {
   "cell_type": "code",
   "execution_count": null,
   "metadata": {},
   "outputs": [],
   "source": []
  },
  {
   "cell_type": "code",
   "execution_count": null,
   "metadata": {
    "scrolled": true
   },
   "outputs": [],
   "source": [
    "## tear down\n",
    "ssh.connect(bastion_ip, username=bastion_user, password=bastion_pass)\n",
    "chan = ssh.invoke_shell()\n",
    "endwith_input('# ','configure terminal', verbose=True)\n",
    "endwith_input(')# ','no monitor session '+session,verbose=True)\n",
    "endwith_input(')# ','commit',verbose=True)\n",
    "endwith_input(')# ','end',verbose=True)\n",
    "\n"
   ]
  },
  {
   "cell_type": "code",
   "execution_count": null,
   "metadata": {},
   "outputs": [],
   "source": [
    "## check result\n",
    "#ret=endwith_exec_search('# ','show monitor session all','ethernet',sleep=3,verbose=False)\n",
    "#print(\"yes\") if ret is True else print(\"not\")\n",
    "\n",
    "## show check command \n",
    "exec_once(\"show monitor session \"+session)"
   ]
  },
  {
   "cell_type": "code",
   "execution_count": null,
   "metadata": {},
   "outputs": [],
   "source": [
    "# close\n",
    "ssh.close()"
   ]
  },
  {
   "cell_type": "code",
   "execution_count": null,
   "metadata": {},
   "outputs": [],
   "source": []
  }
 ],
 "metadata": {
  "kernelspec": {
   "display_name": "Python 3",
   "language": "python",
   "name": "python3"
  },
  "language_info": {
   "codemirror_mode": {
    "name": "ipython",
    "version": 3
   },
   "file_extension": ".py",
   "mimetype": "text/x-python",
   "name": "python",
   "nbconvert_exporter": "python",
   "pygments_lexer": "ipython3",
   "version": "3.4.5"
  }
 },
 "nbformat": 4,
 "nbformat_minor": 2
}
