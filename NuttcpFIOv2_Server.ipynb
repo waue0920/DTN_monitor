{
 "cells": [
  {
   "cell_type": "markdown",
   "metadata": {},
   "source": [
    "# Step 0. Parameter Setting "
   ]
  },
  {
   "cell_type": "code",
   "execution_count": null,
   "metadata": {},
   "outputs": [],
   "source": [
    "import dtnmonitor_v2 as dtn\n",
    "import os,sys\n",
    "import getpass\n",
    "\n",
    "\n",
    "\n",
    "### P3. NUTTCP THREADS\n",
    "## used in Step 2 :input threads number\n",
    "count = 8\n",
    "\n",
    "### P4. SELECT OUTPUT FILE , \n",
    "### used in Step 3 : nuttcp write file , the file number decides the amount of network flow threads \n",
    "file_write_nuttcp=[\n",
    "\"/data/disk0/sc17/w11\",\n",
    "\"/data/disk1/sc17/w12\",\n",
    "\"/data/disk2/sc17/w13\",\n",
    "\"/data/disk3/sc17/w14\",\n",
    "\"/data/disk4/sc17/w15\",\n",
    "\"/data/disk5/sc17/w16\",\n",
    "\"/data/disk6/sc17/w17\",\n",
    "\"/data/disk7/sc17/w18\",\n",
    "    # \"/foo/bar/filennn\"\n",
    "     ]\n",
    "\n",
    "file2_write_nuttcp=[\n",
    "\"/data/disk0/sc17/w31\",\n",
    "\"/data/disk1/sc17/w32\",\n",
    "\"/data/disk2/sc17/w33\",\n",
    "\"/data/disk3/sc17/w34\",\n",
    "\"/data/disk4/sc17/w35\",\n",
    "\"/data/disk5/sc17/w36\",\n",
    "\"/data/disk6/sc17/w37\",\n",
    "\"/data/disk7/sc17/w38\",\n",
    "    # \"/foo/bar/filennn\"\n",
    "     ]\n",
    "\n",
    "\n",
    "### P5.  SELECT THE MONITOR NETWORK INTERFACE  ###\n",
    "## used in Step 4 , if you don't know the interface name, you can use 'all'\n",
    "## make sure the interface is correct, error_naming or without network flow will get empty grath\n",
    "#dtn.interface = 'eth0.1301'\n",
    "#dtn.interface = 'eth0.2038' \n",
    "dtn.interface = 'ens1f0.3061'\n",
    "#dtn.interface = 'eth1'\n",
    "#dtn.interface = 'all'\n",
    "\n",
    "\n",
    "\n",
    "## run fio and check status\n",
    "### select graph_mode [0|1] \n",
    "#graph_mode=0  # all, \n",
    "#graph_mode=1  # 100pt\n",
    "graph_mode=0  \n",
    "\n",
    "### Show Disk and Interface\n",
    "import netifaces\n",
    "import os\n",
    "list=netifaces.interfaces()\n",
    "print(\"==========================================================\")\n",
    "print('{:40s} {:20s} '.format(\"Network Interface\",\"IP\"))\n",
    "print(\"==========================================================\")\n",
    "for inf in list:\n",
    "    #print(inf)\n",
    "    ff=netifaces.ifaddresses(inf)\n",
    "    #print(ff)\n",
    "    try:\n",
    "        addr=ff[netifaces.AF_INET][0]['addr']\n",
    "    except:\n",
    "        continue\n",
    "    print('{:40s} {:20s} '.format(inf,addr)) \n",
    "\n",
    "import getpass\n",
    "user=getpass.getuser()\n",
    "import subprocess\n",
    "import re\n",
    "df = subprocess.Popen([\"df\",\"-h\"], stdout=subprocess.PIPE)\n",
    "output = df.communicate()[0]\n",
    "dfs = output.decode(\"utf8\").split(\"\\n\")\n",
    "dfs.pop(0)\n",
    "print(\"==========================================================\")\n",
    "print('{:35s} {:7s}  {:7s} {:7s}'.\\\n",
    "      format(\"Disk mountpoint\",\"size\",\"avail\",\"used%\"))\n",
    "print(\"==========================================================\")\n",
    "for i in dfs:\n",
    "    try:\n",
    "        xx = re.sub(\" +\",\" \",i).split(\" \")\n",
    "        if len(xx) == 6:\n",
    "            device, size, used, available, percent, mountpoint = xx\n",
    "            print('{:35s} {:7s}  {:7s} {:7s}'\\\n",
    "                  .format(mountpoint,size,available,percent))\n",
    "    except:\n",
    "        continue\n",
    "        \n",
    "def exec_print(command):\n",
    "    process = subprocess.Popen([command], stdout=subprocess.PIPE,stderr=subprocess.STDOUT, shell=True)\n",
    "    for line in iter(process.stdout.readline, b''):\n",
    "        # system print\n",
    "        sys.stdout.write(line)      "
   ]
  },
  {
   "cell_type": "code",
   "execution_count": null,
   "metadata": {
    "collapsed": true
   },
   "outputs": [],
   "source": [
    "\n",
    "print(\"==========================================================\")\n",
    "print('{:60s} '.format(\"Initial checking\"))\n",
    "print(\"==========================================================\")\n",
    "\n",
    "command=\"ps aux |grep 'python3 '|wc -l\"\n",
    "process = subprocess.Popen([command], stdout=subprocess.PIPE,stderr=subprocess.STDOUT, shell=True)\n",
    "ret=process.stdout.read().decode('utf8')\n",
    "\n",
    "\n",
    "\n",
    "if int(ret) > 2: \n",
    "    print(\"System check ..... [ok]\")\n",
    "    print(\"Error!! Some process are running, please check first!!!\")\n",
    "    exec_print(\"ps -u \"+ user +\" ux |grep 'python3 '\")\n",
    "else : \n",
    "    print(\"System check ..... [ok]\")\n",
    "    print('Monitoring Network Interface => {:15s} '.format(dtn.interface))"
   ]
  },
  {
   "cell_type": "markdown",
   "metadata": {},
   "source": [
    "# Step 1. Start servers for network transfer by disk"
   ]
  },
  {
   "cell_type": "code",
   "execution_count": null,
   "metadata": {
    "collapsed": true,
    "scrolled": true
   },
   "outputs": [],
   "source": [
    "\n",
    "\n",
    "count= len(file_write_nuttcp)\n",
    "\n",
    "for i in range(count):\n",
    "    command = \"nuttcp -S -1 -sdz -P 5300\"+str(i)+\" -p 5310\"+str(i)+ \" > \"+ file_write_nuttcp[i] +\" & \"\n",
    "    #print(command)\n",
    "    os.system(command)\n",
    "    command = \"nuttcp -S -1 -sdz -P 5320\"+str(i)+\" -p 5330\"+str(i)+ \" > \"+ file2_write_nuttcp[i] +\" & \"\n",
    "    #print(command)\n",
    "    os.system(command)\n",
    "    #dtn.exec_sysout(command)\n",
    "\n"
   ]
  },
  {
   "cell_type": "code",
   "execution_count": null,
   "metadata": {
    "scrolled": true
   },
   "outputs": [],
   "source": [
    "exec_print(\"sleep 3; ps -u \"+ user +\" ux |grep nuttcp\")"
   ]
  },
  {
   "cell_type": "markdown",
   "metadata": {},
   "source": [
    "# Step 2. Start Monitor"
   ]
  },
  {
   "cell_type": "code",
   "execution_count": null,
   "metadata": {
    "scrolled": true
   },
   "outputs": [],
   "source": [
    "dtn.exec_command(\"python callmonitor_v2.py\",graph_mode)"
   ]
  },
  {
   "cell_type": "markdown",
   "metadata": {},
   "source": [
    "## Step A . stop the test nuttcp"
   ]
  },
  {
   "cell_type": "code",
   "execution_count": null,
   "metadata": {
    "scrolled": true
   },
   "outputs": [],
   "source": [
    "exec_print(\"pkill nuttcp\")"
   ]
  },
  {
   "cell_type": "code",
   "execution_count": null,
   "metadata": {
    "scrolled": false
   },
   "outputs": [],
   "source": [
    "exec_print(\"sleep 3; ps -u \"+ user +\" ux |grep nuttcp\")"
   ]
  },
  {
   "cell_type": "code",
   "execution_count": null,
   "metadata": {
    "collapsed": true
   },
   "outputs": [],
   "source": []
  }
 ],
 "metadata": {
  "kernelspec": {
   "display_name": "Python 3",
   "language": "python",
   "name": "python3"
  },
  "language_info": {
   "codemirror_mode": {
    "name": "ipython",
    "version": 3
   },
   "file_extension": ".py",
   "mimetype": "text/x-python",
   "name": "python",
   "nbconvert_exporter": "python",
   "pygments_lexer": "ipython3",
   "version": "3.4.5"
  }
 },
 "nbformat": 4,
 "nbformat_minor": 2
}
