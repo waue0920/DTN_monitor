{
 "cells": [
  {
   "cell_type": "markdown",
   "metadata": {},
   "source": [
    "# Step 0. Parameter Setting"
   ]
  },
  {
   "cell_type": "code",
   "execution_count": null,
   "metadata": {},
   "outputs": [],
   "source": [
    "import dtnmonitor_v2 as dtn\n",
    "import os,sys\n",
    "\n",
    "\n",
    "### P1. SELECT THE MONITOR NETWORK INTERFACE\n",
    "## used in Step 1,2,3 , if you don't know the interface name, you can use 'all'\n",
    "## make sure the interface is correct, error_naming or without network flow will get empty grath\n",
    "#dtn.interface = 'eth0.1301'\n",
    "#dtn.interface = 'eth0.2038' \n",
    "#dtn.interface = 'ens27f0.3061'\n",
    "#dtn.interface = 'eth1'\n",
    "dtn.interface = 'all'\n",
    "\n",
    "\n",
    "### P3. Iperf3 SERVER IP \n",
    "## used in Step 2,3 : input iperf3 server's ip\n",
    "iperf3_server=\"192.168.61.58\"\n",
    "\n",
    "### P4. Iperf3 THREADS\n",
    "## used in Step 2,3 :input threads number\n",
    "count = 8\n",
    "\n",
    "test_time=\"20\" # second\n",
    "\n",
    "window_size=\"1M\" # M,K\n",
    "\n",
    "## run fio and check status\n",
    "### select graph_mode [0|1] \n",
    "#graph_mode=0  # all, \n",
    "#graph_mode=1  # 100pt\n",
    "graph_mode=0  \n",
    "\n",
    "### Show Disk and Interface\n",
    "import netifaces\n",
    "import os\n",
    "import subprocess\n",
    "import re\n",
    "\n",
    "list=netifaces.interfaces()\n",
    "print(\"==========================================================\")\n",
    "print('{:40s} {:20s} '.format(\"Network Interface\",\"IP\"))\n",
    "print(\"==========================================================\")\n",
    "for inf in list:\n",
    "    #print(inf)\n",
    "    ff=netifaces.ifaddresses(inf)\n",
    "    #print(ff)\n",
    "    try:\n",
    "        addr=ff[netifaces.AF_INET][0]['addr']\n",
    "    except:\n",
    "        continue\n",
    "    print('{:40s} {:20s} '.format(inf,addr)) \n",
    "\n",
    "    \n",
    "import getpass\n",
    "user=getpass.getuser()\n",
    "\n",
    "def exec_print(command):\n",
    "    process = subprocess.Popen([command], stdout=subprocess.PIPE,stderr=subprocess.STDOUT, shell=True)\n",
    "    for line in iter(process.stdout.readline, b''):\n",
    "        # system print\n",
    "        sys.stdout.write(line)"
   ]
  },
  {
   "cell_type": "code",
   "execution_count": null,
   "metadata": {},
   "outputs": [],
   "source": [
    "\n",
    "print(\"==========================================================\")\n",
    "print('{:60s} '.format(\"Initial checking\"))\n",
    "print(\"==========================================================\")\n",
    "\n",
    "command=\"ps aux |grep 'bandw.py '|wc -l\"\n",
    "process = subprocess.Popen([command], stdout=subprocess.PIPE,stderr=subprocess.STDOUT, shell=True)\n",
    "ret=process.stdout.read().decode('utf8')\n",
    "\n",
    "if int(ret) > 2: \n",
    "    print(\"System check ..... [Error]\")\n",
    "    print(\"Error!! Some process are running, please check first!!!\")\n",
    "    exec_print(\"ps -u \"+ user +\" ux |grep 'bandw.py '\")\n",
    "else : \n",
    "    print('Your Monitoring Network Interface ..... {:40s} '.format(dtn.interface))\n",
    "    print(\"System check ..... [ok]\")\n",
    "    print(\"==========================================================\")\n",
    "    print('{:60s} '.format(\"Iperf3 Testing  ...\"))\n",
    "    print(\"==========================================================\")\n",
    "    test_cmd=\"iperf3 -w \"+window_size+\" -Z -t 5s -p 54000 -c \"+ iperf3_server\n",
    "    print(test_cmd)\n",
    "    exec_print(test_cmd)"
   ]
  },
  {
   "cell_type": "markdown",
   "metadata": {},
   "source": [
    "# Step 2. Test network transfer by memory"
   ]
  },
  {
   "cell_type": "code",
   "execution_count": null,
   "metadata": {
    "collapsed": true,
    "scrolled": false
   },
   "outputs": [],
   "source": [
    "command = \"\"\n",
    "for i in range(count):\n",
    "     command += \"iperf3 -w \"+window_size+\" -Z -t \"+test_time+\"s -p 5400\"+str(i)+ \" -c \"+ iperf3_server +\" &\"\n",
    "\n",
    "os.system(command)\n",
    "\n",
    "test_time=str(int(test_time)+20)\n",
    "\n",
    "dtn.exec_command(\"sleep \"+test_time,1)\n",
    "\n"
   ]
  },
  {
   "cell_type": "markdown",
   "metadata": {},
   "source": [
    "## Step A . stop the Iperf3 server"
   ]
  },
  {
   "cell_type": "code",
   "execution_count": null,
   "metadata": {
    "collapsed": true,
    "scrolled": true
   },
   "outputs": [],
   "source": [
    "exec_print(\"killall -u \"+user+\" iperf3\")"
   ]
  },
  {
   "cell_type": "markdown",
   "metadata": {},
   "source": [
    "## Step B . check Iperf3 server status"
   ]
  },
  {
   "cell_type": "code",
   "execution_count": null,
   "metadata": {
    "collapsed": true
   },
   "outputs": [],
   "source": [
    "exec_print(\"ps -u \"+ user +\" ux |grep iperf3\")"
   ]
  },
  {
   "cell_type": "code",
   "execution_count": null,
   "metadata": {
    "collapsed": true
   },
   "outputs": [],
   "source": []
  }
 ],
 "metadata": {
  "kernelspec": {
   "display_name": "Python 3",
   "language": "python",
   "name": "python3"
  },
  "language_info": {
   "codemirror_mode": {
    "name": "ipython",
    "version": 3
   },
   "file_extension": ".py",
   "mimetype": "text/x-python",
   "name": "python",
   "nbconvert_exporter": "python",
   "pygments_lexer": "ipython3",
   "version": "3.4.5"
  }
 },
 "nbformat": 4,
 "nbformat_minor": 2
}
