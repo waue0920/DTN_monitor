{
 "cells": [
  {
   "cell_type": "markdown",
   "metadata": {},
   "source": [
    "# Step 0. Parameter Setting"
   ]
  },
  {
   "cell_type": "code",
   "execution_count": 4,
   "metadata": {},
   "outputs": [
    {
     "name": "stdout",
     "output_type": "stream",
     "text": [
      "==========================================================\n",
      "Network Interface                        IP                   \n",
      "==========================================================\n",
      "lo                                       127.0.0.1            \n",
      "enp20s0                                  165.124.33.143       \n",
      "ens1f0.3061                              192.168.61.50        \n",
      "ens1f0.2038                              10.250.38.50         \n",
      "ens4.1301                                10.10.14.251         \n",
      "==========================================================\n",
      "Disk mountpoint                     size     avail   used%  \n",
      "==========================================================\n",
      "/dev                                32G      32G     0%     \n",
      "/dev/shm                            32G      32G     0%     \n",
      "/run                                32G      32G     1%     \n",
      "/sys/fs/cgroup                      32G      32G     0%     \n",
      "/                                   50G      21G     60%    \n",
      "/boot                               1014M    790M    23%    \n",
      "/home                               151G     108G    29%    \n",
      "/run/user/2003                      6.3G     6.3G    0%     \n",
      "/data/disk0                         373G     155G    59%    \n",
      "/data/disk1                         373G     165G    56%    \n",
      "/data/disk2                         373G     165G    56%    \n",
      "/data/disk3                         373G     165G    56%    \n",
      "/data/disk4                         373G     165G    56%    \n",
      "/data/disk5                         373G     165G    56%    \n",
      "/data/disk6                         373G     165G    56%    \n",
      "/data/disk7                         373G     165G    56%    \n"
     ]
    }
   ],
   "source": [
    "import dtnmonitor_v2 as dtn\n",
    "import os,sys\n",
    "\n",
    "\n",
    "### P1. SELECT THE MONITOR NETWORK INTERFACE\n",
    "## used in Step 1,2,3 , if you don't know the interface name, you can use 'all'\n",
    "## make sure the interface is correct, error_naming or without network flow will get empty grath\n",
    "#dtn.interface = 'eth0.1301'\n",
    "#dtn.interface = 'eth0.2038' \n",
    "dtn.interface = 'ens1f0.3061'\n",
    "#dtn.interface = 'eth1'\n",
    "#dtn.interface = 'all'\n",
    "\n",
    "\n",
    "### P2. SELECT THE INPUT FILE , \n",
    "## used in Step 1 : file IO read file\n",
    "\n",
    "\n",
    "\n",
    "file_read_nuttcp=[\n",
    "\"/data/disk0/sc17/100gtest\",\n",
    "\"/data/disk1/sc17/100gtest\",\n",
    "\"/data/disk2/sc17/100gtest\",\n",
    "\"/data/disk3/sc17/100gtest\",\n",
    "\"/data/disk4/sc17/100gtest\",\n",
    "\"/data/disk5/sc17/100gtest\",\n",
    "\"/data/disk6/sc17/100gtest\",\n",
    "\"/data/disk7/sc17/100gtest\",\n",
    "    # \"/foo/bar/filennn\"\n",
    "     ]\n",
    "\n",
    "file2_read_nuttcp=[\n",
    "\"/data/disk0/sc17/fftest\",\n",
    "\"/data/disk1/sc17/fftest\",\n",
    "\"/data/disk2/sc17/fftest\",\n",
    "\"/data/disk3/sc17/fftest\",\n",
    "\"/data/disk4/sc17/fftest\",\n",
    "\"/data/disk5/sc17/fftest\",\n",
    "\"/data/disk6/sc17/fftest\",\n",
    "\"/data/disk7/sc17/fftest\",\n",
    "    # \"/foo/bar/filennn\"\n",
    "     ]\n",
    "\n",
    "\n",
    "\n",
    "\n",
    "\n",
    "\n",
    "### P3. NUTTCP SERVER IP \n",
    "## used in Step 2,3 : input nuttcp server's ip\n",
    "nuttcp_server=\"192.168.61.57\"\n",
    "\n",
    "### P4. NUTTCP THREADS\n",
    "## used in Step 2,3 :input threads number\n",
    "count = 8\n",
    "\n",
    "## run fio and check status\n",
    "### select graph_mode [0|1] \n",
    "#graph_mode=0  # all, \n",
    "#graph_mode=1  # 100pt\n",
    "graph_mode=0  \n",
    "\n",
    "### Show Disk and Interface\n",
    "import netifaces\n",
    "import os\n",
    "list=netifaces.interfaces()\n",
    "print(\"==========================================================\")\n",
    "print('{:40s} {:20s} '.format(\"Network Interface\",\"IP\"))\n",
    "print(\"==========================================================\")\n",
    "for inf in list:\n",
    "    #print(inf)\n",
    "    ff=netifaces.ifaddresses(inf)\n",
    "    #print(ff)\n",
    "    try:\n",
    "        addr=ff[netifaces.AF_INET][0]['addr']\n",
    "    except:\n",
    "        continue\n",
    "    print('{:40s} {:20s} '.format(inf,addr)) \n",
    "import subprocess\n",
    "import re\n",
    "df = subprocess.Popen([\"df\",\"-h\"], stdout=subprocess.PIPE)\n",
    "output = df.communicate()[0]\n",
    "dfs = output.decode(\"utf8\").split(\"\\n\")\n",
    "dfs.pop(0)\n",
    "print(\"==========================================================\")\n",
    "print('{:35s} {:7s}  {:7s} {:7s}'.\\\n",
    "      format(\"Disk mountpoint\",\"size\",\"avail\",\"used%\"))\n",
    "print(\"==========================================================\")\n",
    "for i in dfs:\n",
    "    try:\n",
    "        xx = re.sub(\" +\",\" \",i).split(\" \")\n",
    "        if len(xx) == 6:\n",
    "            device, size, used, available, percent, mountpoint = xx\n",
    "            print('{:35s} {:7s}  {:7s} {:7s}'\\\n",
    "                  .format(mountpoint,size,available,percent))\n",
    "    except:\n",
    "        continue\n",
    "\n",
    "def exec_print(command):\n",
    "    process = subprocess.Popen([command], stdout=subprocess.PIPE,stderr=subprocess.STDOUT, shell=True)\n",
    "    for line in iter(process.stdout.readline, b''):\n",
    "        # system print\n",
    "        sys.stdout.write(line)   "
   ]
  },
  {
   "cell_type": "markdown",
   "metadata": {},
   "source": [
    "# Step 1. Test file IO"
   ]
  },
  {
   "cell_type": "markdown",
   "metadata": {
    "collapsed": true,
    "scrolled": false
   },
   "source": [
    "# setup fio parameters\n",
    "# first, filename is assigned with existed and >1GB file path \n",
    "randrepeat=\" --randrepeat=0\" #--randrepeat=0 \n",
    "bs=\" --bs=1M\" #--bs=1M \n",
    "ioengine=\" --ioengine=sync \"#--ioengine=sync \n",
    "tuntime=\" --runtime=30\" #--runtime=30 \n",
    "iodepth=\" --iodepth=32\"#--iodepth=32 \n",
    "name=\" --name=drive0\"#--name=drive0 \n",
    "size=\" --size=100G \"#--size=100G \n",
    "filename=\" --filename=\"+file_read_fio #--filename=filename\n",
    "numjobs=\" --numjobs=\"+str(count) \n",
    "\n"
   ]
  },
  {
   "cell_type": "markdown",
   "metadata": {},
   "source": [
    "## method 1 : launching subprocess\n",
    "#for i in range(count):\n",
    "#    filename=\" --filename=\"+file_read_fio #--filename=filename\n",
    "#    cmd=\"fio --thread --rw=read --readonly --norandommap --group_reporting --time_based \"\n",
    "#    command = cmd + randrepeat + bs + ioengine + tuntime + iodepth + name + size + filename +\" & \"\n",
    "#    print(command)\n",
    "#    os.system(command)\n",
    "\n",
    "## method 2 : multithreads by parameters \n",
    "filename=\" --filename=\"+file_read_fio #--filename=filename\n",
    "cmd=\"sleep 3; fio --thread --rw=read --readonly --norandommap --group_reporting --time_based\"\n",
    "#command = cmd + randrepeat + bs + ioengine + tuntime + iodepth + name + size + numjobs + filename \n",
    "command = cmd + randrepeat + bs + ioengine + tuntime + iodepth + name + size + filename \n",
    "print(command)"
   ]
  },
  {
   "cell_type": "markdown",
   "metadata": {},
   "source": [
    "\n",
    "os.system(command)\n",
    "\n",
    "dtn.exec_command(\"sleep 30\" ,graph_mode)\n"
   ]
  },
  {
   "cell_type": "markdown",
   "metadata": {},
   "source": [
    "# Step 2. Test network transfer by memory"
   ]
  },
  {
   "cell_type": "markdown",
   "metadata": {
    "scrolled": false
   },
   "source": [
    "command = \"\"\n",
    "for i in range(count):\n",
    "     command += \"nuttcp -t -i1 -xc \"+str(i)+\" -w 110M -T 30s -P 5200\"+str(i)+\" -p 5210\"+str(i)+ \" \"+ nuttcp_server +\" & \"\n",
    "#    if i != (count-1):\n",
    "#        command += \"nuttcp -t -i1 -xc \"+str(i)+\" -w 110M -T 30s -P 5200\"+str(i)+\" -p 5210\"+str(i)+ \" \"+ nuttcp_server +\" & \"\n",
    "#    else: \n",
    "#        command += \"nuttcp -t -i1 -xc \"+str(i)+\" -w 110M -T 30s -P 5200\"+str(i)+\" -p 5210\"+str(i)+ \" \"+ nuttcp_server +\" & \"\n",
    "        \n",
    "#print(command)\n",
    "os.system(command)\n",
    "dtn.exec_command(\"sleep 40\",graph_mode)\n",
    "\n"
   ]
  },
  {
   "cell_type": "markdown",
   "metadata": {},
   "source": [
    "# Step 3. Test network transfer by disk"
   ]
  },
  {
   "cell_type": "code",
   "execution_count": 7,
   "metadata": {
    "scrolled": false
   },
   "outputs": [
    {
     "name": "stdout",
     "output_type": "stream",
     "text": [
      "nuttcp -t -i1 -sdz -xc 0 -w 110M -P 53000 -p 53100 192.168.61.57 < /data/disk0/sc17/100gtest & \n",
      "nuttcp -t -i1 -sdz -xc 0 -w 110M -P 53200 -p 53300 192.168.61.57 < /data/disk0/sc17/fftest & \n",
      "nuttcp -t -i1 -sdz -xc 1 -w 110M -P 53001 -p 53101 192.168.61.57 < /data/disk1/sc17/100gtest & \n",
      "nuttcp -t -i1 -sdz -xc 1 -w 110M -P 53201 -p 53301 192.168.61.57 < /data/disk1/sc17/fftest & \n",
      "nuttcp -t -i1 -sdz -xc 2 -w 110M -P 53002 -p 53102 192.168.61.57 < /data/disk2/sc17/100gtest & \n",
      "nuttcp -t -i1 -sdz -xc 2 -w 110M -P 53202 -p 53302 192.168.61.57 < /data/disk2/sc17/fftest & \n",
      "nuttcp -t -i1 -sdz -xc 3 -w 110M -P 53003 -p 53103 192.168.61.57 < /data/disk3/sc17/100gtest & \n",
      "nuttcp -t -i1 -sdz -xc 3 -w 110M -P 53203 -p 53303 192.168.61.57 < /data/disk3/sc17/fftest & \n",
      "nuttcp -t -i1 -sdz -xc 4 -w 110M -P 53004 -p 53104 192.168.61.57 < /data/disk4/sc17/100gtest & \n",
      "nuttcp -t -i1 -sdz -xc 4 -w 110M -P 53204 -p 53304 192.168.61.57 < /data/disk4/sc17/fftest & \n",
      "nuttcp -t -i1 -sdz -xc 5 -w 110M -P 53005 -p 53105 192.168.61.57 < /data/disk5/sc17/100gtest & \n",
      "nuttcp -t -i1 -sdz -xc 5 -w 110M -P 53205 -p 53305 192.168.61.57 < /data/disk5/sc17/fftest & \n",
      "nuttcp -t -i1 -sdz -xc 6 -w 110M -P 53006 -p 53106 192.168.61.57 < /data/disk6/sc17/100gtest & \n",
      "nuttcp -t -i1 -sdz -xc 6 -w 110M -P 53206 -p 53306 192.168.61.57 < /data/disk6/sc17/fftest & \n",
      "nuttcp -t -i1 -sdz -xc 7 -w 110M -P 53007 -p 53107 192.168.61.57 < /data/disk7/sc17/100gtest & \n",
      "nuttcp -t -i1 -sdz -xc 7 -w 110M -P 53207 -p 53307 192.168.61.57 < /data/disk7/sc17/fftest & \n"
     ]
    }
   ],
   "source": [
    "for i in range(count):\n",
    "    command = \"nuttcp -t -i1 -sdz -xc \"+str(i)+\" -w 110M -P 5300\"+str(i)+\" -p 5310\"+str(i)+ \" \"+ nuttcp_server +\" < \"+ file_read_nuttcp[i] +\" & \"\n",
    "    print(command)\n",
    "    #os.system(command)\n",
    "    command = \"nuttcp -t -i1 -sdz -xc \"+str(i)+\" -w 110M -P 5320\"+str(i)+\" -p 5330\"+str(i)+ \" \"+ nuttcp_server +\" < \"+ file2_read_nuttcp[i] +\" & \"\n",
    "    print(command)\n",
    "    #os.system(command)\n",
    " \n",
    "\n",
    "\n",
    "#dtn.exec_command(\"sleep 300\",graph_mode)"
   ]
  },
  {
   "cell_type": "code",
   "execution_count": 6,
   "metadata": {
    "scrolled": false
   },
   "outputs": [
    {
     "name": "stderr",
     "output_type": "stream",
     "text": [
      "Exception ignored in: <bound method Socket.__del__ of <zmq.sugar.socket.Socket object at 0x7f2740e27ee8>>\n",
      "Traceback (most recent call last):\n",
      "  File \"/usr/lib64/python3.4/site-packages/zmq/sugar/socket.py\", line 69, in __del__\n",
      "    if not self._shadow:\n",
      "  File \"/usr/lib64/python3.4/site-packages/zmq/sugar/socket.py\", line 69, in __del__\n",
      "    if not self._shadow:\n",
      "  File \"/home/sc17/DTN_monitor/dtnmonitor_v2.py\", line 104, in localtrace\n",
      "    raise SystemExit()\n",
      "SystemExit: \n"
     ]
    }
   ],
   "source": [
    "for i in range(count):\n",
    "    command = \"nuttcp -t -i1 -sdz -xc \"+str(i)+\" -w 110M -P 5300\"+str(i)+\" -p 5310\"+str(i)+ \" \"+ nuttcp_server +\" < \"+ file_read_nuttcp[i] +\" & \"\n",
    "    #print(command)\n",
    "    os.system(command)\n",
    "    command = \"nuttcp -t -i1 -sdz -xc \"+str(i)+\" -w 110M -P 5320\"+str(i)+\" -p 5330\"+str(i)+ \" \"+ nuttcp_server +\" < \"+ file2_read_nuttcp[i] +\" & \"\n",
    "    os.system(command)\n",
    " \n",
    "\n",
    "\n",
    "dtn.exec_command(\"sleep 300\",graph_mode)"
   ]
  },
  {
   "cell_type": "code",
   "execution_count": null,
   "metadata": {
    "collapsed": true
   },
   "outputs": [],
   "source": []
  }
 ],
 "metadata": {
  "kernelspec": {
   "display_name": "Python 3",
   "language": "python",
   "name": "python3"
  },
  "language_info": {
   "codemirror_mode": {
    "name": "ipython",
    "version": 3
   },
   "file_extension": ".py",
   "mimetype": "text/x-python",
   "name": "python",
   "nbconvert_exporter": "python",
   "pygments_lexer": "ipython3",
   "version": "3.4.5"
  }
 },
 "nbformat": 4,
 "nbformat_minor": 2
}
